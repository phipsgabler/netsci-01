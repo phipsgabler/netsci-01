{
 "cells": [
  {
   "cell_type": "code",
   "execution_count": 1,
   "metadata": {
    "collapsed": false
   },
   "outputs": [
    {
     "name": "stderr",
     "output_type": "stream",
     "text": [
      "Loading required package: dplyr\n",
      "\n",
      "Attaching package: ‘dplyr’\n",
      "\n",
      "The following objects are masked from ‘package:stats’:\n",
      "\n",
      "    filter, lag\n",
      "\n",
      "The following objects are masked from ‘package:base’:\n",
      "\n",
      "    intersect, setdiff, setequal, union\n",
      "\n",
      "Loading required package: reshape2\n",
      "Loading required package: ggplot2\n",
      "Loading required package: GGally\n",
      "\n",
      "Attaching package: ‘GGally’\n",
      "\n",
      "The following object is masked from ‘package:dplyr’:\n",
      "\n",
      "    nasa\n",
      "\n"
     ]
    }
   ],
   "source": [
    "require(dplyr)\n",
    "require(reshape2)\n",
    "require(ggplot2)\n",
    "require(GGally)"
   ]
  },
  {
   "cell_type": "code",
   "execution_count": 2,
   "metadata": {
    "collapsed": false
   },
   "outputs": [],
   "source": [
    "texas.rw <- data.frame(graph='texas', method='rw', \n",
    "                       read.csv('sampled/roads_texas_rw.csv', header = T))\n",
    "texas.ff <- data.frame(graph='texas', method='ff', \n",
    "                       read.csv('sampled/roads_texas_ff.csv', header = T))\n",
    "facebook.rw <- data.frame(graph='facebook', method='rw', \n",
    "                          read.csv('sampled/facebook_rw.csv', header = T))\n",
    "facebook.ff <- data.frame(graph='facebook', method='ff', \n",
    "                          read.csv('sampled/facebook_ff.csv', header = T))"
   ]
  },
  {
   "cell_type": "code",
   "execution_count": 3,
   "metadata": {
    "collapsed": false
   },
   "outputs": [
    {
     "name": "stdout",
     "output_type": "stream",
     "text": [
      "'data.frame':\t400 obs. of  10 variables:\n",
      " $ graph                        : Factor w/ 2 levels \"texas\",\"facebook\": 1 1 1 1 1 1 1 1 1 1 ...\n",
      " $ method                       : Factor w/ 2 levels \"rw\",\"ff\": 1 1 1 1 1 1 1 1 1 1 ...\n",
      " $ edges                        : int  189443 183858 199136 187796 187837 192674 177525 194044 180480 192068 ...\n",
      " $ triangles                    : int  6790 6593 7109 7974 7850 8032 6632 8076 6466 7300 ...\n",
      " $ mean_triangles               : num  0.146 0.142 0.153 0.172 0.169 ...\n",
      " $ density                      : num  1.95e-05 1.89e-05 2.05e-05 1.93e-05 1.93e-05 ...\n",
      " $ mean_degree                  : num  2.72 2.64 2.86 2.7 2.7 ...\n",
      " $ components                   : int  1 1 1 1 1 1 1 2 1 1 ...\n",
      " $ mean_component_size          : num  139338 139338 139338 139338 139338 ...\n",
      " $ global_clustering_coefficient: num  0.0525 0.0533 0.0496 0.062 0.0605 ...\n"
     ]
    }
   ],
   "source": [
    "data <- rbind(texas.rw, texas.ff, facebook.rw, facebook.ff)\n",
    "str(data)"
   ]
  },
  {
   "cell_type": "code",
   "execution_count": 4,
   "metadata": {
    "collapsed": false
   },
   "outputs": [],
   "source": [
    "analyzed.data.ok <- data %>% \n",
    "    select(graph, method, density, global_clustering_coefficient) %>%\n",
    "    melt(id.vars = c('graph', 'method'))\n",
    "\n",
    "ground.truth.ok <- data.frame(graph = c('facebook', 'texas'),\n",
    "                              density = c(0.0004023, 0.0000002),\n",
    "                              global_clustering_coefficient = c(0.1477, 0.0602)) %>%\n",
    "    melt(id.vars = c('graph'))\n",
    "\n",
    "plot.ok <- ggplot(analyzed.data.ok, aes(x=method, y=value)) + \n",
    "    facet_wrap(~variable, scales='free_y') + \n",
    "    geom_jitter(aes(color = graph), alpha=0.5) + \n",
    "    geom_hline(data = ground.truth.ok, aes(yintercept = value, color = graph))"
   ]
  },
  {
   "cell_type": "code",
   "execution_count": 5,
   "metadata": {
    "collapsed": false
   },
   "outputs": [],
   "source": [
    "analyzed.data.off <- data %>% \n",
    "    select(graph, method, mean_triangles, components, mean_degree) %>%\n",
    "    melt(id.vars = c('graph', 'method'))\n",
    "\n",
    "ground.truth.off <- data.frame(graph = c('facebook', 'texas'),\n",
    "                           #edges = c(817035, 1921660),\n",
    "                           #triangles = c(3500542, 82869),\n",
    "                           mean_triangles = c(164.780, 0.178),\n",
    "                           mean_degree = c(25.640, 2.758),\n",
    "                           #density = c(0.0004023, 0.0000002),\n",
    "                           components = c(144, 13890)) %>%\n",
    "                           #mean_component_size = c(442.576, 100.315),\n",
    "                           #global_clustering_coefficient = c(0.1477, 0.0602)\n",
    "                           #     ) %>%\n",
    "    melt(id.vars = c('graph'))\n",
    "\n",
    "plot.off <- ggplot(analyzed.data.off, aes(x=method, y=log(value))) + \n",
    "    facet_wrap(~variable, scales='free_y') + \n",
    "    geom_jitter(aes(color = graph), alpha=0.5) + \n",
    "    geom_hline(data = ground.truth.off, aes(yintercept = log(value), color = graph))"
   ]
  },
  {
   "cell_type": "code",
   "execution_count": 13,
   "metadata": {
    "collapsed": false
   },
   "outputs": [
    {
     "data": {},
     "metadata": {},
     "output_type": "display_data"
    },
    {
     "data": {
      "text/html": [
       "<strong>png:</strong> 2"
      ],
      "text/latex": [
       "\\textbf{png:} 2"
      ],
      "text/markdown": [
       "**png:** 2"
      ],
      "text/plain": [
       "png \n",
       "  2 "
      ]
     },
     "metadata": {},
     "output_type": "display_data"
    }
   ],
   "source": [
    "pdf(\"slides/fig/sampled-ok.pdf\", 4, 5)\n",
    "plot.ok + theme(legend.position = 'none')\n",
    "dev.off()"
   ]
  },
  {
   "cell_type": "code",
   "execution_count": 15,
   "metadata": {
    "collapsed": false
   },
   "outputs": [
    {
     "data": {},
     "metadata": {},
     "output_type": "display_data"
    },
    {
     "data": {
      "text/html": [
       "<strong>png:</strong> 2"
      ],
      "text/latex": [
       "\\textbf{png:} 2"
      ],
      "text/markdown": [
       "**png:** 2"
      ],
      "text/plain": [
       "png \n",
       "  2 "
      ]
     },
     "metadata": {},
     "output_type": "display_data"
    }
   ],
   "source": [
    "pdf(\"slides/fig/sampled-off.pdf\", 7, 5)\n",
    "plot.off\n",
    "dev.off()"
   ]
  }
 ],
 "metadata": {
  "kernelspec": {
   "display_name": "R",
   "language": "R",
   "name": "ir"
  },
  "language_info": {
   "codemirror_mode": "r",
   "file_extension": ".r",
   "mimetype": "text/x-r-source",
   "name": "R",
   "pygments_lexer": "r",
   "version": "3.3.0"
  }
 },
 "nbformat": 4,
 "nbformat_minor": 0
}
